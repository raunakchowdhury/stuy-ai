{
 "cells": [
  {
   "cell_type": "markdown",
   "metadata": {
    "colab_type": "text",
    "id": "jnhmooWqhd48"
   },
   "source": [
    "## Binary Tree Class##\n",
    "\n",
    "**Create a BinTree class** that uses the Node class below to create an ordered binary tree. \n",
    "\n",
    "The nodes (below) have a value instance variable that is comparable with the normal Python operators: \"<\", \"<=\" and \"==\", \">=\" and \">\".\n",
    "\n",
    "The nodes also have pointers to their child nodes.\n"
   ]
  },
  {
   "cell_type": "code",
   "execution_count": 18,
   "metadata": {
    "colab": {},
    "colab_type": "code",
    "id": "ovT07u3phd4-"
   },
   "outputs": [],
   "source": [
    "class Node:\n",
    "    def __init__(self, data):\n",
    "        self.value = data\n",
    "        self.smaller = None\n",
    "        self.larger = None\n",
    "\n",
    "    def __str__(self):\n",
    "        return str(self.value)"
   ]
  },
  {
   "cell_type": "markdown",
   "metadata": {
    "colab_type": "text",
    "id": "NPnu7_AGhd5C"
   },
   "source": [
    "**Complete and test the methods below.**\n",
    "\n",
    "**Note**: the _clear()_ method is tricky to code.  What you want to accomplish is to set every node's pointers to other nodes to None. If you have just 2 pointers to the left and right (larger and smaller) children of that node, then walk the tree carefully, and set those pointers in every node to None. This must be done from the bottom up. Once all of the pointers to a block of memory (in this case, a node) are removed, that block of memory becomes inaccessible, and should be collected by the garbage-collector later."
   ]
  },
  {
   "cell_type": "code",
   "execution_count": 21,
   "metadata": {
    "colab": {
     "base_uri": "https://localhost:8080/",
     "height": 187
    },
    "colab_type": "code",
    "id": "zRfl5LEzhd5E",
    "outputId": "19c11d6f-7447-4ec6-986e-41eaa29e2427",
    "scrolled": true
   },
   "outputs": [
    {
     "name": "stdout",
     "output_type": "stream",
     "text": [
      "Do tree has 7???:  True\n",
      "Do tree has 3???:  True\n",
      "Do tree has 104???:  False\n",
      "Printing ordered list: [3, 4, 5, 6, 7]\n",
      "Clearing tree....\n",
      "Printing ordered list: []\n"
     ]
    }
   ],
   "source": [
    "class BinTree:\n",
    "    def __init__(self, A = None):\n",
    "        # A is an optional argument containing a list of values to be inserted into the binary tree just after cosntruction\n",
    "        self.start_node = None\n",
    "        if A:\n",
    "          for value in A:\n",
    "            self.insert(value)\n",
    "\n",
    "    def insert(self, V):\n",
    "        # inserts a new value\n",
    "        node = Node(V)\n",
    "        if self.start_node == None:\n",
    "          self.start_node = node\n",
    "          return\n",
    "         # cycle to find the appropriate spot\n",
    "        cur = self.start_node\n",
    "        prev_cur = cur\n",
    "        while cur:\n",
    "            prev_cur = cur\n",
    "            # if V is greater, descend right\n",
    "            if V > cur.value:\n",
    "                cur = cur.larger\n",
    "            # if V is smaller, descend left\n",
    "            elif V < cur.value:\n",
    "                cur = cur.smaller\n",
    "            # if V is equal to a current node, just drop it\n",
    "            else:\n",
    "                return\n",
    "        # add in the new node\n",
    "        if V > prev_cur.value:\n",
    "            prev_cur.larger = node\n",
    "        elif V < prev_cur.value:\n",
    "            prev_cur.smaller = node\n",
    "\n",
    "    def has(self, V):\n",
    "        # returns True if V is in the list, else False\n",
    "        cur = self.start_node\n",
    "        prev_cur = cur\n",
    "        while cur:\n",
    "            prev_cur = cur\n",
    "            # if V is greater, descend right\n",
    "            if V == cur.value:\n",
    "                return True\n",
    "            elif V > cur.value:\n",
    "                cur = cur.larger\n",
    "            # if V is smaller, descend left\n",
    "            else:\n",
    "                cur = cur.smaller\n",
    "        #if it reaches this point, it's not in the tree\n",
    "        return False\n",
    "\n",
    "    def get_ordered_string(self):\n",
    "        # returns a list of all values in ordered sequence\n",
    "        # return [int(num) for num in self.start_node.get_ordered_string()]\n",
    "        def ordered_helper(node):\n",
    "            '''\n",
    "            in-order traversal.\n",
    "            uses lists to make concatonation more efficient.\n",
    "            list elements are joined at the end using extend().\n",
    "            '''\n",
    "            sequence_list = []\n",
    "            if node.value == None:\n",
    "                return []\n",
    "            if node.smaller == None and node.larger == None:\n",
    "                # print(node.value)\n",
    "                return [node.value]\n",
    "            if node.smaller:\n",
    "                sequence_list.extend(ordered_helper(node.smaller))\n",
    "            sequence_list.append(node.value)\n",
    "            if node.larger:\n",
    "                sequence_list.extend(ordered_helper(node.larger))\n",
    "            return sequence_list\n",
    "\n",
    "        return ordered_helper(self.start_node)\n",
    "\n",
    "    def clear(self):\n",
    "        # clears the list of all nodes\n",
    "        def clear_helper(node):\n",
    "            '''\n",
    "            clear helper using a post-order traversal.\n",
    "            will print each node as it is deleted.\n",
    "            '''\n",
    "            if node.smaller == None and node.larger == None:\n",
    "                # print('Node {} deleted!'.format(node))\n",
    "                node.smaller = None\n",
    "                node.larger = None\n",
    "                node.value = None\n",
    "                return\n",
    "            if node.smaller:\n",
    "                clear_helper(node.smaller)\n",
    "            if node.larger:\n",
    "                clear_helper(node.larger)\n",
    "            # kill self\n",
    "            # print('Node {} deleted!'.format(node))\n",
    "            node.value = None\n",
    "            node.smaller = None\n",
    "            node.larger = None\n",
    "\n",
    "        clear_helper(self.start_node)\n",
    "\n",
    "if __name__ == '__main__':\n",
    "    tree = BinTree([4,5,6,3,3,7])\n",
    "    print('Do tree has 7???: ', tree.has(7))\n",
    "    print('Do tree has 3???: ', tree.has(3))\n",
    "    print('Do tree has 104???: ', tree.has(104))\n",
    "    print('Printing ordered list:', tree.get_ordered_string())\n",
    "    print('Clearing tree....')\n",
    "    tree.clear()\n",
    "    print('Printing ordered list:', tree.get_ordered_string())\n"
   ]
  }
 ],
 "metadata": {
  "colab": {
   "collapsed_sections": [],
   "name": "BinTreeAssignment.ipynb",
   "provenance": [],
   "version": "0.3.2"
  },
  "kernelspec": {
   "display_name": "Python 3",
   "language": "python",
   "name": "python3"
  },
  "language_info": {
   "codemirror_mode": {
    "name": "ipython",
    "version": 3
   },
   "file_extension": ".py",
   "mimetype": "text/x-python",
   "name": "python",
   "nbconvert_exporter": "python",
   "pygments_lexer": "ipython3",
   "version": "3.7.1"
  }
 },
 "nbformat": 4,
 "nbformat_minor": 1
}
