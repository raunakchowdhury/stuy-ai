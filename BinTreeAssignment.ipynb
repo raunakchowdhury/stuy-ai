{
  "nbformat": 4,
  "nbformat_minor": 0,
  "metadata": {
    "colab": {
      "name": "BinTreeAssignment.ipynb",
      "version": "0.3.2",
      "provenance": [],
      "collapsed_sections": []
    },
    "kernelspec": {
      "display_name": "Python 3",
      "language": "python",
      "name": "python3"
    }
  },
  "cells": [
    {
      "metadata": {
        "id": "jnhmooWqhd48",
        "colab_type": "text"
      },
      "cell_type": "markdown",
      "source": [
        "## Binary Tree Class##\n",
        "\n",
        "**Create a BinTree class** that uses the Node class below to create an ordered binary tree. \n",
        "\n",
        "The nodes (below) have a value instance variable that is comparable with the normal Python operators: \"<\", \"<=\" and \"==\", \">=\" and \">\".\n",
        "\n",
        "The nodes also have pointers to their child nodes.\n"
      ]
    },
    {
      "metadata": {
        "id": "ovT07u3phd4-",
        "colab_type": "code",
        "colab": {}
      },
      "cell_type": "code",
      "source": [
        "class Node:\n",
        "    def __init__(self, data):\n",
        "        self.value = data\n",
        "        self.smaller = None\n",
        "        self.equal_or_larger = None\n",
        "\n",
        "    def __str__(self):\n",
        "        return str(self.value)\n",
        "\n",
        "    def get_ordered_string(self):\n",
        "        '''\n",
        "        in-order traversal.\n",
        "        '''\n",
        "        sequence = ''\n",
        "        if self.smaller == None and self.equal_or_larger == None:\n",
        "            return str(self.value)\n",
        "        if self.smaller:\n",
        "            sequence += self.smaller.get_ordered_string()\n",
        "        sequence += str(self.value)\n",
        "        if self.equal_or_larger:\n",
        "            sequence += self.equal_or_larger.get_ordered_string()\n",
        "        return sequence\n",
        "\n",
        "    def clear(self):\n",
        "        '''\n",
        "        clear helper using a post-order traversal.\n",
        "        will print each node as it is deleted.\n",
        "        '''\n",
        "        if self.smaller == None and self.equal_or_larger == None:\n",
        "            print('Node {} deleted!'.format(self))\n",
        "            self = None\n",
        "            return\n",
        "        if self.smaller:\n",
        "            self.smaller.clear()\n",
        "        if self.equal_or_larger:\n",
        "            self.equal_or_larger.clear()\n",
        "        # kill self\n",
        "        print('Node {} deleted!'.format(self))\n",
        "        self = None"
      ],
      "execution_count": 0,
      "outputs": []
    },
    {
      "metadata": {
        "id": "NPnu7_AGhd5C",
        "colab_type": "text"
      },
      "cell_type": "markdown",
      "source": [
        "**Complete and test the methods below.**\n",
        "\n",
        "**Note**: the _clear()_ method is tricky to code.  What you want to accomplish is to set every node's pointers to other nodes to None. If you have just 2 pointers to the left and right (larger and smaller) children of that node, then walk the tree carefully, and set those pointers in every node to None. This must be done from the bottom up. Once all of the pointers to a block of memory (in this case, a node) are removed, that block of memory becomes inaccessible, and should be collected by the garbage-collector later."
      ]
    },
    {
      "metadata": {
        "id": "zRfl5LEzhd5E",
        "colab_type": "code",
        "colab": {
          "base_uri": "https://localhost:8080/",
          "height": 187
        },
        "outputId": "19c11d6f-7447-4ec6-986e-41eaa29e2427"
      },
      "cell_type": "code",
      "source": [
        "class BinTree:\n",
        "    def __init__(self, A = None):\n",
        "        # A is an optional argument containing a list of values to be inserted into the binary tree just after cosntruction\n",
        "        self.start_node = None\n",
        "        if A:\n",
        "          for value in A:\n",
        "            self.insert(value)\n",
        "\n",
        "    def insert(self, V):\n",
        "        # inserts a new value\n",
        "        node = Node(V)\n",
        "        if self.start_node == None:\n",
        "          self.start_node = node\n",
        "          return\n",
        "         # cycle to find the appropriate spot\n",
        "        cur = self.start_node\n",
        "        prev_cur = cur\n",
        "        while cur:\n",
        "            prev_cur = cur\n",
        "            # if V is greater, descend right\n",
        "            if V >= cur.value:\n",
        "                cur = cur.equal_or_larger\n",
        "            # if V is smaller, descend left\n",
        "            else:\n",
        "                cur = cur.smaller\n",
        "        # add in the new node\n",
        "        if V >= prev_cur.value:\n",
        "            prev_cur.equal_or_larger = node\n",
        "        else:\n",
        "            prev_cur.smaller = node\n",
        "\n",
        "    def has(self, V):\n",
        "        # returns True if V is in the list, else False\n",
        "        cur = self.start_node\n",
        "        prev_cur = cur\n",
        "        while cur:\n",
        "            prev_cur = cur\n",
        "            # if V is greater, descend right\n",
        "            if V == cur.value:\n",
        "                return True\n",
        "            elif V > cur.value:\n",
        "                cur = cur.equal_or_larger\n",
        "            # if V is smaller, descend left\n",
        "            else:\n",
        "                cur = cur.smaller\n",
        "        #if it reaches this point, it's not in the tree\n",
        "        return False\n",
        "\n",
        "    def get_ordered_string(self):\n",
        "        # returns a list of all values in ordered sequence\n",
        "        return [int(num) for num in self.start_node.get_ordered_string()]\n",
        "\n",
        "    def clear(self):\n",
        "        # clears the list of all nodes\n",
        "        self.start_node.clear()\n",
        "\n",
        "if __name__ == '__main__':\n",
        "    tree = BinTree([4,5,6,3,7])\n",
        "    print('Do tree has 7???: ', tree.has(7))\n",
        "    print('Do tree has 3???: ', tree.has(3))\n",
        "    print('Do tree has 104???: ', tree.has(104))\n",
        "    print('Printing ordered list:', tree.get_ordered_string())\n",
        "    print('Clearing tree....')\n",
        "    tree.clear()\n"
      ],
      "execution_count": 5,
      "outputs": [
        {
          "output_type": "stream",
          "text": [
            "Do tree has 7???:  True\n",
            "Do tree has 3???:  True\n",
            "Do tree has 104???:  False\n",
            "Printing ordered list: [3, 4, 5, 6, 7]\n",
            "Clearing tree....\n",
            "Node 3 deleted!\n",
            "Node 7 deleted!\n",
            "Node 6 deleted!\n",
            "Node 5 deleted!\n",
            "Node 4 deleted!\n"
          ],
          "name": "stdout"
        }
      ]
    }
  ]
}